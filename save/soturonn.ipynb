{
 "cells": [
  {
   "cell_type": "code",
   "execution_count": null,
   "metadata": {},
   "outputs": [],
   "source": [
    "using LinearAlgebra\n",
    "using Plots"
   ]
  },
  {
   "cell_type": "code",
   "execution_count": null,
   "metadata": {},
   "outputs": [],
   "source": [
    "function decompose(c, left_dim)\n",
    "    psi = reshape(c, (left_dim, :))\n",
    "    F = svd(psi, full=false)\n",
    "    return F.U, Diagonal(F.S)*F.Vt\n",
    "end"
   ]
  },
  {
   "cell_type": "code",
   "execution_count": null,
   "metadata": {},
   "outputs": [],
   "source": [
    "function make_As(c, n, d)\n",
    "    A_temp = []\n",
    "    a,c = decompose(c, d)\n",
    "    push!(A_temp, reshape(a, d, 1, size(a,2)))\n",
    "    println(size(a, 2))\n",
    "    for i in 2:(n-1)\n",
    "        left_dim =  d*size(a, 2)\n",
    "        a, c = decompose(c, left_dim)\n",
    "        println(size(a, 2))\n",
    "        push!(A_temp, permutedims(reshape(a, :, d, size(a, 2)), [2,1,3]))\n",
    "    end\n",
    "    push!(A_temp, permutedims(reshape(c,d,size(c,1),1), [2,1,3]))\n",
    "    return A_temp\n",
    "end"
   ]
  },
  {
   "cell_type": "code",
   "execution_count": null,
   "metadata": {},
   "outputs": [],
   "source": [
    "d = 3\n",
    "n = 5\n",
    "C = rand(d^n)\n",
    "A_temp = make_As(C, n, d)\n",
    "C = reshape(C,d, d,d,d,d)"
   ]
  },
  {
   "cell_type": "code",
   "execution_count": null,
   "metadata": {},
   "outputs": [],
   "source": [
    "println(C[2,2,1,2,1])\n",
    "A_temp[1][ 2, :, :]*A_temp[2][2,:,:]*A_temp[3][1,:,:]*A_temp[4][2,:,:]*A_temp[5][1,:,:]"
   ]
  },
  {
   "cell_type": "code",
   "execution_count": null,
   "metadata": {},
   "outputs": [],
   "source": [
    "A_temp[3]"
   ]
  },
  {
   "cell_type": "code",
   "execution_count": 1,
   "metadata": {},
   "outputs": [],
   "source": [
    "struct Node\n",
    "    id::Int64\n",
    "    t::String\n",
    "    data::Array\n",
    "    indices::Array\n",
    "    children::Array\n",
    "end"
   ]
  },
  {
   "cell_type": "code",
   "execution_count": null,
   "metadata": {},
   "outputs": [],
   "source": [
    "function find_pair(c, indices)\n",
    "    "
   ]
  },
  {
   "cell_type": "code",
   "execution_count": 7,
   "metadata": {},
   "outputs": [
    {
     "ename": "MethodError",
     "evalue": "MethodError: no method matching Node(; id=-5927471820337811548, t=\"sigma\")\nClosest candidates are:\n  Node(!Matched::Int64, !Matched::String, !Matched::Array, !Matched::Array, !Matched::Array) at In[1]:2 got unsupported keyword arguments \"id\", \"t\"\n  Node(!Matched::Any, !Matched::Any, !Matched::Any, !Matched::Any, !Matched::Any) at In[1]:2 got unsupported keyword arguments \"id\", \"t\"",
     "output_type": "error",
     "traceback": [
      "MethodError: no method matching Node(; id=-5927471820337811548, t=\"sigma\")\nClosest candidates are:\n  Node(!Matched::Int64, !Matched::String, !Matched::Array, !Matched::Array, !Matched::Array) at In[1]:2 got unsupported keyword arguments \"id\", \"t\"\n  Node(!Matched::Any, !Matched::Any, !Matched::Any, !Matched::Any, !Matched::Any) at In[1]:2 got unsupported keyword arguments \"id\", \"t\"",
      "",
      "Stacktrace:",
      " [1] top-level scope at In[7]:4"
     ]
    }
   ],
   "source": [
    "d = 2\n",
    "n = 5\n",
    "C = rand(d^n)\n",
    "sigma_temp = Node(id=rand(Int), t=\"sigma\")\n",
    "Indices = [\"sigma1\", \"sigma2\",\"sigma3\",\"sigma4\",\"sigma5\"]"
   ]
  },
  {
   "cell_type": "code",
   "execution_count": 23,
   "metadata": {},
   "outputs": [
    {
     "data": {
      "text/plain": [
       "3275810796485156093"
      ]
     },
     "execution_count": 23,
     "metadata": {},
     "output_type": "execute_result"
    }
   ],
   "source": [
    "rand(Int)"
   ]
  }
 ],
 "metadata": {
  "kernelspec": {
   "display_name": "Julia 1.1.1",
   "language": "julia",
   "name": "julia-1.1"
  },
  "language_info": {
   "file_extension": ".jl",
   "mimetype": "application/julia",
   "name": "julia",
   "version": "1.1.1"
  }
 },
 "nbformat": 4,
 "nbformat_minor": 2
}
